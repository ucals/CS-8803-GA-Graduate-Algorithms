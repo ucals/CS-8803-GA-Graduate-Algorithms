{
 "cells": [
  {
   "cell_type": "markdown",
   "metadata": {},
   "source": [
    "# Algorithms [DPV] - Problems Chapter 6"
   ]
  },
  {
   "cell_type": "markdown",
   "metadata": {},
   "source": [
    "## 6.1: Contiguous subsequence"
   ]
  },
  {
   "cell_type": "code",
   "execution_count": 20,
   "metadata": {
    "collapsed": true
   },
   "outputs": [],
   "source": [
    "x = [5, 15, -30, 10, -5, 40, 10]"
   ]
  },
  {
   "cell_type": "code",
   "execution_count": 21,
   "metadata": {},
   "outputs": [],
   "source": [
    "def contiguous_subsequence_of_maximum_sum(A):\n",
    "    S = []\n",
    "    B = []\n",
    "    R = []\n",
    "\n",
    "    for i, a in enumerate(A):\n",
    "        if i != 0:\n",
    "            S.append(a + max(0, S[i - 1]))\n",
    "            if a == S[i]:\n",
    "                B.append(i)\n",
    "            else:\n",
    "                B.append(B[i - 1])\n",
    "        else:\n",
    "            S.append(a)\n",
    "            B.append(0)\n",
    "\n",
    "    for i in range(len(A) - B[len(A) - 1]):\n",
    "        R.append(A[B[len(A) - 1] + i])\n",
    "\n",
    "    return R"
   ]
  },
  {
   "cell_type": "code",
   "execution_count": 22,
   "metadata": {},
   "outputs": [
    {
     "name": "stdout",
     "output_type": "stream",
     "text": [
      "[10, -5, 40, 10]\n"
     ]
    }
   ],
   "source": [
    "print(contiguous_subsequence_of_maximum_sum(x))"
   ]
  },
  {
   "cell_type": "markdown",
   "metadata": {},
   "source": [
    "## 6.2 Hotel stops with minimum penalty"
   ]
  },
  {
   "cell_type": "code",
   "execution_count": 47,
   "metadata": {
    "collapsed": true
   },
   "outputs": [],
   "source": [
    "x = [60, 180, 210, 250, 370, 400, 550, 650, 700, 770, 870, 880, 980]"
   ]
  },
  {
   "cell_type": "code",
   "execution_count": 51,
   "metadata": {},
   "outputs": [],
   "source": [
    "def hotel_stops_min_penalty(A):\n",
    "    N = []\n",
    "    offset = 0\n",
    "    for i in range(1, len(A)):\n",
    "        if pow(200 - A[i] + offset, 2) > pow(200 - A[i - 1] + offset, 2):\n",
    "            N.append(i - 1)\n",
    "            offset = A[i - 1]\n",
    "\n",
    "    return N"
   ]
  },
  {
   "cell_type": "code",
   "execution_count": 52,
   "metadata": {},
   "outputs": [
    {
     "name": "stdout",
     "output_type": "stream",
     "text": [
      "[2, 5, 7, 10]\n"
     ]
    }
   ],
   "source": [
    "print(hotel_stops_min_penalty(x))"
   ]
  },
  {
   "cell_type": "markdown",
   "metadata": {},
   "source": [
    "## 6.4 Check whether string can me reconstructed"
   ]
  },
  {
   "cell_type": "code",
   "execution_count": 119,
   "metadata": {
    "collapsed": true
   },
   "outputs": [],
   "source": [
    "s = \"itwasthebestoftimesa\""
   ]
  },
  {
   "cell_type": "code",
   "execution_count": 120,
   "metadata": {},
   "outputs": [],
   "source": [
    "def dicti(text):\n",
    "    if text == 'it':\n",
    "        return True\n",
    "    if text == 'was':\n",
    "        return True\n",
    "    if text == 'the':\n",
    "        return True\n",
    "    if text == 'best':\n",
    "        return True\n",
    "    if text == 'of':\n",
    "        return True\n",
    "    if text == 'times':\n",
    "        return True\n",
    "    if text == 'be':\n",
    "        return True\n",
    "    \n",
    "    return False"
   ]
  },
  {
   "cell_type": "code",
   "execution_count": 121,
   "metadata": {},
   "outputs": [],
   "source": [
    "def can_be_reconstructed(s):\n",
    "    last_position = 0\n",
    "    for i, l in enumerate(s):\n",
    "        for j in range(len(s), i, -1):\n",
    "            if dicti(s[i:j]):\n",
    "                last_position = j\n",
    "                print('**** ' + s[i:last_position])\n",
    "                break"
   ]
  },
  {
   "cell_type": "code",
   "execution_count": 122,
   "metadata": {},
   "outputs": [
    {
     "name": "stdout",
     "output_type": "stream",
     "text": [
      "**** it\n",
      "**** was\n",
      "**** the\n",
      "**** best\n",
      "**** of\n",
      "**** times\n"
     ]
    }
   ],
   "source": [
    "can_be_reconstructed(s)"
   ]
  },
  {
   "cell_type": "code",
   "execution_count": null,
   "metadata": {
    "collapsed": true
   },
   "outputs": [],
   "source": []
  }
 ],
 "metadata": {
  "kernelspec": {
   "display_name": "Python 3",
   "language": "python",
   "name": "python3"
  },
  "language_info": {
   "codemirror_mode": {
    "name": "ipython",
    "version": 3
   },
   "file_extension": ".py",
   "mimetype": "text/x-python",
   "name": "python",
   "nbconvert_exporter": "python",
   "pygments_lexer": "ipython3",
   "version": "3.6.5"
  }
 },
 "nbformat": 4,
 "nbformat_minor": 2
}
